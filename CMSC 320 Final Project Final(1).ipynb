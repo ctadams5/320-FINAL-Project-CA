{
 "cells": [
  {
   "cell_type": "markdown",
   "metadata": {},
   "source": [
    "# Analysis of Murders in States with Strict/Lenient Gun Laws"
   ]
  },
  {
   "cell_type": "markdown",
   "metadata": {},
   "source": [
    "#### Nicholas Carrolli, Charles Adams, William Spencer "
   ]
  },
  {
   "cell_type": "markdown",
   "metadata": {},
   "source": [
    "## Overview "
   ]
  },
  {
   "cell_type": "markdown",
   "metadata": {},
   "source": [
    "The topic of gun laws often comes up in discussion, and it is an important topic to be educated on if you are a United States citizen. As more and more gun related incidents happen in the US, guns laws have become a point of contention for many people and a detailed analysis will shed light on approaches taken by different states. This analysis shows different ways of using data to compare states with strict gun laws to ones with lenient gun laws, and provides insight on the pros and cons of living in one of these states. Nick Carrolli sections 1-3, Charles Adams 4&5 and William Spencer 5&6 + all added analysis."
   ]
  },
  {
   "cell_type": "markdown",
   "metadata": {},
   "source": [
    "# Part 0: Helper Methods"
   ]
  },
  {
   "cell_type": "markdown",
   "metadata": {},
   "source": [
    "This section is reserved for the various helper methods I used in this analysis. I've made a section for it to make the code easier to read later in the anaylsis."
   ]
  },
  {
   "cell_type": "code",
   "execution_count": 2,
   "metadata": {},
   "outputs": [],
   "source": [
    "import pandas as pd\n",
    "import matplotlib.pyplot as plt\n",
    "import numpy as np\n",
    "from sklearn.linear_model import LinearRegression\n",
    "from sklearn import metrics\n",
    "import itertools\n",
    "\n",
    "#Defines a binary variable which determines if the given murder was committed by a firearm or not\n",
    "def is_shooting_crime(row):\n",
    "    if row['Weapon'] == 'Handgun' or row['Weapon'] == 'Firearm' or row['Weapon'] == 'Shotgun' or row['Weapon'] == 'Gun' or row['Weapon'] == 'Rifle':\n",
    "        return 1\n",
    "    else:\n",
    "        return 0\n",
    "    \n",
    "#Returns the yearly count of murders by year\n",
    "def yearly_count(df):\n",
    "    df = df.copy().groupby(df['Year'], as_index=True, group_keys=True).count()\n",
    "    count = df[['Record ID']].reset_index()\n",
    "    count = count.rename(index=str, columns={'Record ID' : 'Count'})\n",
    "    return count   \n",
    "\n",
    "#Defines a binary variable which determines if the given state has strict gun laws\n",
    "def is_strict(row):\n",
    "    if row['State'] == \"Texas\" or row['State'] == \"Florida\" or row['State'] == \"Georgia\":\n",
    "        return 1\n",
    "    else:\n",
    "        return 0\n",
    "\n",
    "#Helper method that connects dots in a scatter plot, and colors it based on the type of gun laws the state has    \n",
    "def connect_dots(df):\n",
    "    i = 0\n",
    "    states = df['State'].drop_duplicates()\n",
    "    df = df.set_index('State')\n",
    "    year = 2006 \n",
    "    \n",
    "    for s in states:\n",
    "      \n",
    "        curr_year = df[df['Year'] == year]\n",
    "        if s in curr_year.index:\n",
    "            if df['Is_Strict'].values[i] == 1:\n",
    "                col = \"red\"\n",
    "            else:\n",
    "                col = \"blue\"\n",
    "            i = i + 1\n",
    "            plt.plot(df.loc[s, 'Year'], df.loc[s, \"Total Deaths\"], color = col)\n",
    "            if (year < 2018):\n",
    "                year = year + 1\n",
    "            else:\n",
    "                year = 2006\n",
    "\n",
    "    "
   ]
  },
  {
   "cell_type": "markdown",
   "metadata": {},
   "source": [
    "# Part 1: Texas and California"
   ]
  },
  {
   "cell_type": "markdown",
   "metadata": {},
   "source": [
    "We start with comparing a state with very strict gun laws (Calfornia) to a state with very lenient gun laws (Texas)\n",
    "\n",
    "California firearm regulations include, but are not limited to, \n",
    "    -requiring the gun to be unloaded, in a locked compartment, when not in use\n",
    "    -ordinances passed enacted making it more difficult for urban residents to obtain firearms\n",
    "    -The sale of guns not being openly allowed/advertised\n",
    "   \n",
    "Texas firearm regulations include, but are not limited to,\n",
    "    -Students allowed to carry their firearms on campus, and even to class, if it is concealed\n",
    "    -Non-Extensive background check when purchasing firearms\n",
    "    -No Ban on high capacity magazines\n",
    "\n",
    "***Disclaimer***:\n",
    "California's population is currently 34.5 million people, while Texas' population is currently 29.7 million people. This is not a huge difference, but take this into consideration when analyzing graphs comparing the two states. We can standradize the data further along in the experiment to see true values for comparison."
   ]
  },
  {
   "cell_type": "code",
   "execution_count": 680,
   "metadata": {
    "scrolled": true
   },
   "outputs": [
    {
     "name": "stderr",
     "output_type": "stream",
     "text": [
      "/Users/nickcarrolli/opt/anaconda3/lib/python3.7/site-packages/IPython/core/interactiveshell.py:3058: DtypeWarning: Columns (16) have mixed types. Specify dtype option on import or set low_memory=False.\n",
      "  interactivity=interactivity, compiler=compiler, result=result)\n"
     ]
    },
    {
     "data": {
      "text/html": [
       "<div>\n",
       "<style scoped>\n",
       "    .dataframe tbody tr th:only-of-type {\n",
       "        vertical-align: middle;\n",
       "    }\n",
       "\n",
       "    .dataframe tbody tr th {\n",
       "        vertical-align: top;\n",
       "    }\n",
       "\n",
       "    .dataframe thead th {\n",
       "        text-align: right;\n",
       "    }\n",
       "</style>\n",
       "<table border=\"1\" class=\"dataframe\">\n",
       "  <thead>\n",
       "    <tr style=\"text-align: right;\">\n",
       "      <th></th>\n",
       "      <th>Record ID</th>\n",
       "      <th>City</th>\n",
       "      <th>State</th>\n",
       "      <th>Year</th>\n",
       "      <th>Incident</th>\n",
       "      <th>Crime Type</th>\n",
       "      <th>Crime Solved</th>\n",
       "      <th>Victim Sex</th>\n",
       "      <th>Victim Age</th>\n",
       "      <th>Victim Race</th>\n",
       "      <th>Victim Ethnicity</th>\n",
       "      <th>Perpetrator Sex</th>\n",
       "      <th>Perpetrator Age</th>\n",
       "      <th>Perpetrator Race</th>\n",
       "      <th>Perpetrator Ethnicity</th>\n",
       "      <th>Weapon</th>\n",
       "      <th>Victim Count</th>\n",
       "      <th>Is_Firearm</th>\n",
       "    </tr>\n",
       "  </thead>\n",
       "  <tbody>\n",
       "    <tr>\n",
       "      <td>1067</td>\n",
       "      <td>1068</td>\n",
       "      <td>Alameda</td>\n",
       "      <td>California</td>\n",
       "      <td>1980</td>\n",
       "      <td>1</td>\n",
       "      <td>Murder or Manslaughter</td>\n",
       "      <td>No</td>\n",
       "      <td>Female</td>\n",
       "      <td>21</td>\n",
       "      <td>White</td>\n",
       "      <td>Unknown</td>\n",
       "      <td>Unknown</td>\n",
       "      <td>0</td>\n",
       "      <td>Unknown</td>\n",
       "      <td>Unknown</td>\n",
       "      <td>Knife</td>\n",
       "      <td>0</td>\n",
       "      <td>0</td>\n",
       "    </tr>\n",
       "    <tr>\n",
       "      <td>1068</td>\n",
       "      <td>1069</td>\n",
       "      <td>Alameda</td>\n",
       "      <td>California</td>\n",
       "      <td>1980</td>\n",
       "      <td>1</td>\n",
       "      <td>Murder or Manslaughter</td>\n",
       "      <td>Yes</td>\n",
       "      <td>Male</td>\n",
       "      <td>17</td>\n",
       "      <td>White</td>\n",
       "      <td>Not Hispanic</td>\n",
       "      <td>Male</td>\n",
       "      <td>39</td>\n",
       "      <td>White</td>\n",
       "      <td>Not Hispanic</td>\n",
       "      <td>Handgun</td>\n",
       "      <td>0</td>\n",
       "      <td>1</td>\n",
       "    </tr>\n",
       "    <tr>\n",
       "      <td>1069</td>\n",
       "      <td>1070</td>\n",
       "      <td>Alameda</td>\n",
       "      <td>California</td>\n",
       "      <td>1980</td>\n",
       "      <td>1</td>\n",
       "      <td>Murder or Manslaughter</td>\n",
       "      <td>No</td>\n",
       "      <td>Male</td>\n",
       "      <td>56</td>\n",
       "      <td>Black</td>\n",
       "      <td>Not Hispanic</td>\n",
       "      <td>Unknown</td>\n",
       "      <td>0</td>\n",
       "      <td>Unknown</td>\n",
       "      <td>Unknown</td>\n",
       "      <td>Fire</td>\n",
       "      <td>0</td>\n",
       "      <td>0</td>\n",
       "    </tr>\n",
       "    <tr>\n",
       "      <td>1070</td>\n",
       "      <td>1071</td>\n",
       "      <td>Alameda</td>\n",
       "      <td>California</td>\n",
       "      <td>1980</td>\n",
       "      <td>1</td>\n",
       "      <td>Murder or Manslaughter</td>\n",
       "      <td>No</td>\n",
       "      <td>Female</td>\n",
       "      <td>43</td>\n",
       "      <td>White</td>\n",
       "      <td>Hispanic</td>\n",
       "      <td>Unknown</td>\n",
       "      <td>0</td>\n",
       "      <td>Unknown</td>\n",
       "      <td>Unknown</td>\n",
       "      <td>Knife</td>\n",
       "      <td>0</td>\n",
       "      <td>0</td>\n",
       "    </tr>\n",
       "    <tr>\n",
       "      <td>1071</td>\n",
       "      <td>1072</td>\n",
       "      <td>Alameda</td>\n",
       "      <td>California</td>\n",
       "      <td>1980</td>\n",
       "      <td>2</td>\n",
       "      <td>Murder or Manslaughter</td>\n",
       "      <td>No</td>\n",
       "      <td>Male</td>\n",
       "      <td>31</td>\n",
       "      <td>White</td>\n",
       "      <td>Not Hispanic</td>\n",
       "      <td>Unknown</td>\n",
       "      <td>0</td>\n",
       "      <td>Unknown</td>\n",
       "      <td>Unknown</td>\n",
       "      <td>Knife</td>\n",
       "      <td>0</td>\n",
       "      <td>0</td>\n",
       "    </tr>\n",
       "  </tbody>\n",
       "</table>\n",
       "</div>"
      ],
      "text/plain": [
       "      Record ID     City       State  Year  Incident              Crime Type  \\\n",
       "1067       1068  Alameda  California  1980         1  Murder or Manslaughter   \n",
       "1068       1069  Alameda  California  1980         1  Murder or Manslaughter   \n",
       "1069       1070  Alameda  California  1980         1  Murder or Manslaughter   \n",
       "1070       1071  Alameda  California  1980         1  Murder or Manslaughter   \n",
       "1071       1072  Alameda  California  1980         2  Murder or Manslaughter   \n",
       "\n",
       "     Crime Solved Victim Sex  Victim Age Victim Race Victim Ethnicity  \\\n",
       "1067           No     Female          21       White          Unknown   \n",
       "1068          Yes       Male          17       White     Not Hispanic   \n",
       "1069           No       Male          56       Black     Not Hispanic   \n",
       "1070           No     Female          43       White         Hispanic   \n",
       "1071           No       Male          31       White     Not Hispanic   \n",
       "\n",
       "     Perpetrator Sex Perpetrator Age Perpetrator Race Perpetrator Ethnicity  \\\n",
       "1067         Unknown               0          Unknown               Unknown   \n",
       "1068            Male              39            White          Not Hispanic   \n",
       "1069         Unknown               0          Unknown               Unknown   \n",
       "1070         Unknown               0          Unknown               Unknown   \n",
       "1071         Unknown               0          Unknown               Unknown   \n",
       "\n",
       "       Weapon  Victim Count  Is_Firearm  \n",
       "1067    Knife             0           0  \n",
       "1068  Handgun             0           1  \n",
       "1069     Fire             0           0  \n",
       "1070    Knife             0           0  \n",
       "1071    Knife             0           0  "
      ]
     },
     "execution_count": 680,
     "metadata": {},
     "output_type": "execute_result"
    }
   ],
   "source": [
    "# Load and clean TX and CA data\n",
    "us_crime = pd.read_csv(\"us_crime.csv\")\n",
    "us_crime = us_crime.drop(columns = ['Agency Code', 'Agency Name', 'Agency Type', 'Month', 'Relationship', 'Record Source', 'Perpetrator Count'])\n",
    "us_crime[\"Is_Firearm\"] = us_crime.apply(lambda row: is_shooting_crime(row), axis = 1)\n",
    "ca_crime = us_crime[us_crime['State'] == 'California']\n",
    "ca_crime.head()"
   ]
  },
  {
   "cell_type": "code",
   "execution_count": 681,
   "metadata": {
    "scrolled": true
   },
   "outputs": [
    {
     "data": {
      "text/html": [
       "<div>\n",
       "<style scoped>\n",
       "    .dataframe tbody tr th:only-of-type {\n",
       "        vertical-align: middle;\n",
       "    }\n",
       "\n",
       "    .dataframe tbody tr th {\n",
       "        vertical-align: top;\n",
       "    }\n",
       "\n",
       "    .dataframe thead th {\n",
       "        text-align: right;\n",
       "    }\n",
       "</style>\n",
       "<table border=\"1\" class=\"dataframe\">\n",
       "  <thead>\n",
       "    <tr style=\"text-align: right;\">\n",
       "      <th></th>\n",
       "      <th>Record ID</th>\n",
       "      <th>City</th>\n",
       "      <th>State</th>\n",
       "      <th>Year</th>\n",
       "      <th>Incident</th>\n",
       "      <th>Crime Type</th>\n",
       "      <th>Crime Solved</th>\n",
       "      <th>Victim Sex</th>\n",
       "      <th>Victim Age</th>\n",
       "      <th>Victim Race</th>\n",
       "      <th>Victim Ethnicity</th>\n",
       "      <th>Perpetrator Sex</th>\n",
       "      <th>Perpetrator Age</th>\n",
       "      <th>Perpetrator Race</th>\n",
       "      <th>Perpetrator Ethnicity</th>\n",
       "      <th>Weapon</th>\n",
       "      <th>Victim Count</th>\n",
       "      <th>Is_Firearm</th>\n",
       "    </tr>\n",
       "  </thead>\n",
       "  <tbody>\n",
       "    <tr>\n",
       "      <td>19625</td>\n",
       "      <td>19626</td>\n",
       "      <td>Anderson</td>\n",
       "      <td>Texas</td>\n",
       "      <td>1980</td>\n",
       "      <td>1</td>\n",
       "      <td>Murder or Manslaughter</td>\n",
       "      <td>Yes</td>\n",
       "      <td>Male</td>\n",
       "      <td>19</td>\n",
       "      <td>Black</td>\n",
       "      <td>Not Hispanic</td>\n",
       "      <td>Male</td>\n",
       "      <td>22</td>\n",
       "      <td>Black</td>\n",
       "      <td>Not Hispanic</td>\n",
       "      <td>Handgun</td>\n",
       "      <td>0</td>\n",
       "      <td>1</td>\n",
       "    </tr>\n",
       "    <tr>\n",
       "      <td>19626</td>\n",
       "      <td>19627</td>\n",
       "      <td>Anderson</td>\n",
       "      <td>Texas</td>\n",
       "      <td>1980</td>\n",
       "      <td>2</td>\n",
       "      <td>Murder or Manslaughter</td>\n",
       "      <td>Yes</td>\n",
       "      <td>Female</td>\n",
       "      <td>27</td>\n",
       "      <td>White</td>\n",
       "      <td>Not Hispanic</td>\n",
       "      <td>Male</td>\n",
       "      <td>28</td>\n",
       "      <td>White</td>\n",
       "      <td>Not Hispanic</td>\n",
       "      <td>Rifle</td>\n",
       "      <td>0</td>\n",
       "      <td>1</td>\n",
       "    </tr>\n",
       "    <tr>\n",
       "      <td>19627</td>\n",
       "      <td>19628</td>\n",
       "      <td>Anderson</td>\n",
       "      <td>Texas</td>\n",
       "      <td>1980</td>\n",
       "      <td>3</td>\n",
       "      <td>Murder or Manslaughter</td>\n",
       "      <td>Yes</td>\n",
       "      <td>Male</td>\n",
       "      <td>38</td>\n",
       "      <td>White</td>\n",
       "      <td>Not Hispanic</td>\n",
       "      <td>Male</td>\n",
       "      <td>63</td>\n",
       "      <td>White</td>\n",
       "      <td>Not Hispanic</td>\n",
       "      <td>Rifle</td>\n",
       "      <td>0</td>\n",
       "      <td>1</td>\n",
       "    </tr>\n",
       "    <tr>\n",
       "      <td>19628</td>\n",
       "      <td>19629</td>\n",
       "      <td>Anderson</td>\n",
       "      <td>Texas</td>\n",
       "      <td>1980</td>\n",
       "      <td>1</td>\n",
       "      <td>Manslaughter by Negligence</td>\n",
       "      <td>Yes</td>\n",
       "      <td>Female</td>\n",
       "      <td>12</td>\n",
       "      <td>White</td>\n",
       "      <td>Not Hispanic</td>\n",
       "      <td>Male</td>\n",
       "      <td>10</td>\n",
       "      <td>White</td>\n",
       "      <td>Not Hispanic</td>\n",
       "      <td>Shotgun</td>\n",
       "      <td>0</td>\n",
       "      <td>1</td>\n",
       "    </tr>\n",
       "    <tr>\n",
       "      <td>19629</td>\n",
       "      <td>19630</td>\n",
       "      <td>Andrews</td>\n",
       "      <td>Texas</td>\n",
       "      <td>1980</td>\n",
       "      <td>1</td>\n",
       "      <td>Murder or Manslaughter</td>\n",
       "      <td>Yes</td>\n",
       "      <td>Female</td>\n",
       "      <td>48</td>\n",
       "      <td>White</td>\n",
       "      <td>Unknown</td>\n",
       "      <td>Male</td>\n",
       "      <td>52</td>\n",
       "      <td>White</td>\n",
       "      <td>Unknown</td>\n",
       "      <td>Handgun</td>\n",
       "      <td>0</td>\n",
       "      <td>1</td>\n",
       "    </tr>\n",
       "  </tbody>\n",
       "</table>\n",
       "</div>"
      ],
      "text/plain": [
       "       Record ID      City  State  Year  Incident                  Crime Type  \\\n",
       "19625      19626  Anderson  Texas  1980         1      Murder or Manslaughter   \n",
       "19626      19627  Anderson  Texas  1980         2      Murder or Manslaughter   \n",
       "19627      19628  Anderson  Texas  1980         3      Murder or Manslaughter   \n",
       "19628      19629  Anderson  Texas  1980         1  Manslaughter by Negligence   \n",
       "19629      19630   Andrews  Texas  1980         1      Murder or Manslaughter   \n",
       "\n",
       "      Crime Solved Victim Sex  Victim Age Victim Race Victim Ethnicity  \\\n",
       "19625          Yes       Male          19       Black     Not Hispanic   \n",
       "19626          Yes     Female          27       White     Not Hispanic   \n",
       "19627          Yes       Male          38       White     Not Hispanic   \n",
       "19628          Yes     Female          12       White     Not Hispanic   \n",
       "19629          Yes     Female          48       White          Unknown   \n",
       "\n",
       "      Perpetrator Sex Perpetrator Age Perpetrator Race Perpetrator Ethnicity  \\\n",
       "19625            Male              22            Black          Not Hispanic   \n",
       "19626            Male              28            White          Not Hispanic   \n",
       "19627            Male              63            White          Not Hispanic   \n",
       "19628            Male              10            White          Not Hispanic   \n",
       "19629            Male              52            White               Unknown   \n",
       "\n",
       "        Weapon  Victim Count  Is_Firearm  \n",
       "19625  Handgun             0           1  \n",
       "19626    Rifle             0           1  \n",
       "19627    Rifle             0           1  \n",
       "19628  Shotgun             0           1  \n",
       "19629  Handgun             0           1  "
      ]
     },
     "execution_count": 681,
     "metadata": {},
     "output_type": "execute_result"
    }
   ],
   "source": [
    "texas_crime = us_crime[us_crime['State'] == 'Texas']\n",
    "texas_crime.head()"
   ]
  },
  {
   "cell_type": "markdown",
   "metadata": {},
   "source": [
    "### 1.1: Total Murders with and without Weapon"
   ]
  },
  {
   "cell_type": "code",
   "execution_count": 1,
   "metadata": {},
   "outputs": [
    {
     "ename": "NameError",
     "evalue": "name 'texas_crime' is not defined",
     "output_type": "error",
     "traceback": [
      "\u001b[0;31m---------------------------------------------------------------------------\u001b[0m",
      "\u001b[0;31mNameError\u001b[0m                                 Traceback (most recent call last)",
      "\u001b[0;32m<ipython-input-1-cc25b75c7195>\u001b[0m in \u001b[0;36m<module>\u001b[0;34m\u001b[0m\n\u001b[0;32m----> 1\u001b[0;31m \u001b[0mnon_tx_weapon_crimes\u001b[0m \u001b[0;34m=\u001b[0m \u001b[0mtexas_crime\u001b[0m\u001b[0;34m[\u001b[0m\u001b[0mtexas_crime\u001b[0m\u001b[0;34m[\u001b[0m\u001b[0;34m'Is_Firearm'\u001b[0m\u001b[0;34m]\u001b[0m \u001b[0;34m==\u001b[0m \u001b[0;36m0\u001b[0m\u001b[0;34m]\u001b[0m\u001b[0;34m\u001b[0m\u001b[0;34m\u001b[0m\u001b[0m\n\u001b[0m\u001b[1;32m      2\u001b[0m \u001b[0mnon_ca_weapon_crimes\u001b[0m \u001b[0;34m=\u001b[0m \u001b[0mca_crime\u001b[0m\u001b[0;34m[\u001b[0m\u001b[0mca_crime\u001b[0m\u001b[0;34m[\u001b[0m\u001b[0;34m'Is_Firearm'\u001b[0m\u001b[0;34m]\u001b[0m \u001b[0;34m==\u001b[0m \u001b[0;36m0\u001b[0m\u001b[0;34m]\u001b[0m\u001b[0;34m\u001b[0m\u001b[0;34m\u001b[0m\u001b[0m\n\u001b[1;32m      3\u001b[0m \u001b[0;34m\u001b[0m\u001b[0m\n\u001b[1;32m      4\u001b[0m \u001b[0mtx_weapon_crimes\u001b[0m \u001b[0;34m=\u001b[0m \u001b[0mtexas_crime\u001b[0m\u001b[0;34m[\u001b[0m\u001b[0mtexas_crime\u001b[0m\u001b[0;34m[\u001b[0m\u001b[0;34m'Is_Firearm'\u001b[0m\u001b[0;34m]\u001b[0m \u001b[0;34m==\u001b[0m \u001b[0;36m1\u001b[0m\u001b[0;34m]\u001b[0m\u001b[0;34m\u001b[0m\u001b[0;34m\u001b[0m\u001b[0m\n\u001b[1;32m      5\u001b[0m \u001b[0mca_weapon_crimes\u001b[0m \u001b[0;34m=\u001b[0m \u001b[0mca_crime\u001b[0m\u001b[0;34m[\u001b[0m\u001b[0mca_crime\u001b[0m\u001b[0;34m[\u001b[0m\u001b[0;34m'Is_Firearm'\u001b[0m\u001b[0;34m]\u001b[0m \u001b[0;34m==\u001b[0m \u001b[0;36m1\u001b[0m\u001b[0;34m]\u001b[0m\u001b[0;34m\u001b[0m\u001b[0;34m\u001b[0m\u001b[0m\n",
      "\u001b[0;31mNameError\u001b[0m: name 'texas_crime' is not defined"
     ]
    }
   ],
   "source": [
    "# Gather non-firearms crimes and split into their own dataframes\n",
    "non_tx_weapon_crimes = texas_crime[texas_crime['Is_Firearm'] == 0]\n",
    "non_ca_weapon_crimes = ca_crime[ca_crime['Is_Firearm'] == 0]\n",
    "\n",
    "# Gather firearm related crimes and split into their own dataframes\n",
    "tx_weapon_crimes = texas_crime[texas_crime['Is_Firearm'] == 1]\n",
    "ca_weapon_crimes = ca_crime[ca_crime['Is_Firearm'] == 1]\n",
    "\n",
    "num_non_ca_crimes = len(non_ca_weapon_crimes)\n",
    "num_non_tx_crimes = len(non_tx_weapon_crimes)\n",
    "\n",
    "num_tx_crimes = len(tx_weapon_crimes)\n",
    "num_ca_crimes = len(ca_weapon_crimes)\n",
    "\n",
    "labels = ['Texas' , 'California']\n",
    "no_gun = [num_non_tx_crimes, num_non_ca_crimes]\n",
    "gun = [num_tx_crimes, num_ca_crimes]\n",
    "\n",
    "x = np.arange(len(labels))\n",
    "fig, ax = plt.subplots()\n",
    "width = 0.35\n",
    "rects1 = ax.bar(x - width/2, no_gun, width, label='Murders without Firearm')\n",
    "rects2 = ax.bar(x + width/2, gun, width, label='Murders with Firearm', color = \"red\")\n",
    "ax.set_ylabel('Total Murders')\n",
    "ax.set_title('Murders by State')\n",
    "ax.set_xticks(x)\n",
    "ax.set_xticklabels(labels)\n",
    "ax.legend()\n",
    "plt.show()"
   ]
  },
  {
   "cell_type": "markdown",
   "metadata": {},
   "source": [
    "### 1.2: Total Murders Committed without a Firearm"
   ]
  },
  {
   "cell_type": "code",
   "execution_count": 683,
   "metadata": {},
   "outputs": [
    {
     "data": {
      "image/png": "[encoded data removed]",
      "text/plain": [
       "<Figure size 432x288 with 1 Axes>"
      ]
     },
     "metadata": {
      "needs_background": "light"
     },
     "output_type": "display_data"
    }
   ],
   "source": [
    "# Call yearly_count helper on TX and CA dataframes\n",
    "tx_count = yearly_count(non_tx_weapon_crimes)\n",
    "ca_count = yearly_count(non_ca_weapon_crimes)\n",
    "\n",
    "# Plot non-firearm murders per year for TX and CA\n",
    "plt.plot(tx_count['Year'], tx_count['Count'], color = \"red\", label = \"Texas\")\n",
    "plt.plot(ca_count['Year'], ca_count['Count'], color = \"blue\", label = \"California\")\n",
    "\n",
    "# Graph labels and legend\n",
    "plt.ylabel('# of Murders')\n",
    "plt.xlabel('Year')\n",
    "plt.title('Non-Firearm Murders per Year')\n",
    "plt.legend()\n",
    "plt.show()"
   ]
  },
  {
   "cell_type": "markdown",
   "metadata": {},
   "source": [
    "This graph depicts the number of non-firearm murders in both California and Texas from the years 1980 to 2015. For every single year, California has more non-firearm murders than Texas. Both states follow a relatively similar trend in amount of murders per year, wihch could be attributed to political and social factors. While California's population is a few million greater than Texas', it's clear that firearm laws don't have a significant impact on murders. The difference in both Texas and California's populations and death levels are completely unproportional, with the most recent numbers in 2015 having over approximately 100 million more deaths in California than Texas."
   ]
  },
  {
   "cell_type": "markdown",
   "metadata": {},
   "source": [
    "### 1.3: Total Victims by Year "
   ]
  },
  {
   "cell_type": "code",
   "execution_count": 4,
   "metadata": {},
   "outputs": [
    {
     "ename": "NameError",
     "evalue": "name 'tx_weapon_crimes' is not defined",
     "output_type": "error",
     "traceback": [
      "\u001b[1;31m---------------------------------------------------------------------------\u001b[0m",
      "\u001b[1;31mNameError\u001b[0m                                 Traceback (most recent call last)",
      "\u001b[1;32m<ipython-input-4-46e88fec8e5e>\u001b[0m in \u001b[0;36m<module>\u001b[1;34m()\u001b[0m\n\u001b[0;32m      1\u001b[0m \u001b[1;31m# Group TX and CA dataframes by year and sum victim counts\u001b[0m\u001b[1;33m\u001b[0m\u001b[1;33m\u001b[0m\u001b[1;33m\u001b[0m\u001b[0m\n\u001b[1;32m----> 2\u001b[1;33m \u001b[0mtx_grouped\u001b[0m \u001b[1;33m=\u001b[0m \u001b[0mtx_weapon_crimes\u001b[0m\u001b[1;33m.\u001b[0m\u001b[0mgroupby\u001b[0m\u001b[1;33m(\u001b[0m\u001b[1;34m'Year'\u001b[0m\u001b[1;33m)\u001b[0m\u001b[1;33m.\u001b[0m\u001b[0msum\u001b[0m\u001b[1;33m(\u001b[0m\u001b[1;33m)\u001b[0m\u001b[1;33m\u001b[0m\u001b[1;33m\u001b[0m\u001b[0m\n\u001b[0m\u001b[0;32m      3\u001b[0m \u001b[0mca_grouped\u001b[0m \u001b[1;33m=\u001b[0m \u001b[0mca_weapon_crimes\u001b[0m\u001b[1;33m.\u001b[0m\u001b[0mgroupby\u001b[0m\u001b[1;33m(\u001b[0m\u001b[1;34m'Year'\u001b[0m\u001b[1;33m)\u001b[0m\u001b[1;33m.\u001b[0m\u001b[0msum\u001b[0m\u001b[1;33m(\u001b[0m\u001b[1;33m)\u001b[0m\u001b[1;33m\u001b[0m\u001b[1;33m\u001b[0m\u001b[0m\n\u001b[0;32m      4\u001b[0m \u001b[1;33m\u001b[0m\u001b[0m\n\u001b[0;32m      5\u001b[0m \u001b[0mtx_grouped\u001b[0m \u001b[1;33m=\u001b[0m \u001b[0mtx_grouped\u001b[0m\u001b[1;33m.\u001b[0m\u001b[0mdrop\u001b[0m\u001b[1;33m(\u001b[0m\u001b[0mcolumns\u001b[0m \u001b[1;33m=\u001b[0m \u001b[1;33m[\u001b[0m\u001b[1;34m'Record ID'\u001b[0m\u001b[1;33m,\u001b[0m \u001b[1;34m'Incident'\u001b[0m\u001b[1;33m,\u001b[0m \u001b[1;34m'Victim Age'\u001b[0m\u001b[1;33m,\u001b[0m \u001b[1;34m'Is_Firearm'\u001b[0m\u001b[1;33m]\u001b[0m\u001b[1;33m)\u001b[0m\u001b[1;33m.\u001b[0m\u001b[0mreset_index\u001b[0m\u001b[1;33m(\u001b[0m\u001b[1;33m)\u001b[0m\u001b[1;33m\u001b[0m\u001b[1;33m\u001b[0m\u001b[0m\n",
      "\u001b[1;31mNameError\u001b[0m: name 'tx_weapon_crimes' is not defined"
     ]
    }
   ],
   "source": [
    "# Group TX and CA dataframes by year and sum victim counts\n",
    "tx_grouped = tx_weapon_crimes.groupby('Year').sum()\n",
    "ca_grouped = ca_weapon_crimes.groupby('Year').sum()\n",
    "\n",
    "tx_grouped = tx_grouped.drop(columns = ['Record ID', 'Incident', 'Victim Age', 'Is_Firearm']).reset_index()\n",
    "ca_grouped = ca_grouped.drop(columns = ['Record ID', 'Incident', 'Victim Age', 'Is_Firearm']).reset_index()\n",
    "\n",
    "# Plot victims for TX and CA\n",
    "plt.plot(tx_grouped['Year'], tx_grouped['Victim Count'], color = \"red\", label = \"Texas\")\n",
    "plt.plot(ca_grouped['Year'], ca_grouped['Victim Count'], color = \"blue\", label = \"California\")\n",
    "\n",
    "plt.ylabel('# of Victims')\n",
    "plt.xlabel('Year')\n",
    "plt.title('Firearm victims per Year')\n",
    "plt.legend()\n",
    "plt.show()"
   ]
  },
  {
   "cell_type": "markdown",
   "metadata": {},
   "source": [
    "This plot shows the number of firearm victims per year in Texas and California. There is no clear trend in gun-related deaths/injuries for either state and on any time span both states will surpass each other. This leads to the conclusion that gun laws have little effect on victims of gun violence. The numbers appear to be extremely unpreditcable and constantly changing, which allows for uncertainty. This heats up the gun violence debate, with both parties having their own defense, based upon these numbers, thus far."
   ]
  },
  {
   "cell_type": "markdown",
   "metadata": {},
   "source": [
    "### 1.4: Total Crimes by Year "
   ]
  },
  {
   "cell_type": "code",
   "execution_count": 685,
   "metadata": {},
   "outputs": [
    {
     "data": {
      "image/png": "[encoded data removed]",
      "text/plain": [
       "<Figure size 432x288 with 1 Axes>"
      ]
     },
     "metadata": {
      "needs_background": "light"
     },
     "output_type": "display_data"
    }
   ],
   "source": [
    "# Call yearly_count helper function on TX and CA dataframes. yearly_count returns the # of murders per year for each dataframe\n",
    "tx_count = yearly_count(texas_crime)\n",
    "ca_count = yearly_count(ca_crime)\n",
    "\n",
    "# Plot murders per year for Texas and California\n",
    "plt.plot(tx_count['Year'], tx_count['Count'], color = \"red\", label = \"Texas\")\n",
    "plt.plot(ca_count['Year'], ca_count['Count'], color = \"blue\", label = \"California\")\n",
    "\n",
    "# Labels and legend\n",
    "plt.ylabel('# of Murders')\n",
    "plt.xlabel('Year')\n",
    "plt.title('Total Murders per Year')\n",
    "plt.legend() \n",
    "plt.show()\n"
   ]
  },
  {
   "cell_type": "markdown",
   "metadata": {},
   "source": [
    "### 1.5: Texas and California Conclusion\n",
    "1.1: California has more murders committed both with and without guns than Texas does. Also, California has almost the same amount of murders committed without a gun as Texas has of murders committed with a gun. This makes it clear that there is no major effect of gun laws when using these two states as the sample size.\n",
    "\n",
    "1.2: This graph displays the number of murders committed without a weapon in California and Texas. California is ahead of Texas by a large margin in each year, especially between 1980-1990. During this span, both states endured meteoric rises in total murders by year.\n",
    "\n",
    "1.3: Comparing the number of victims (deaths) per year between California and Texas. In almost every year, California has more murders than Texas.\n",
    "\n",
    "1.4: Comparing the total number of murders reported between California and Texas. Once again, California has many more murders per year than Texas does. This hurts the pro-gun control side of the debate heavily.\n",
    "\n",
    "1.5: California and Texas follow a similar trend of spikes and declines in murders per year. This is likely a result of sociological and political factors. Both states are extremely large and are both populated by many different people; therefore, this is an extremely volatile statistic."
   ]
  },
  {
   "cell_type": "markdown",
   "metadata": {},
   "source": [
    "# Part 2: Suicide Rates "
   ]
  },
  {
   "cell_type": "markdown",
   "metadata": {},
   "source": [
    "Next, we explore the suicide rates between the 3 most lenient gun law states (Texas, Florida, and Georgia), and the 3 most strict gun law states (California, New Jersey, and New York)."
   ]
  },
  {
   "cell_type": "markdown",
   "metadata": {},
   "source": [
    "### 2.1: Data Preparation"
   ]
  },
  {
   "cell_type": "code",
   "execution_count": 686,
   "metadata": {},
   "outputs": [
    {
     "data": {
      "text/html": [
       "<div>\n",
       "<style scoped>\n",
       "    .dataframe tbody tr th:only-of-type {\n",
       "        vertical-align: middle;\n",
       "    }\n",
       "\n",
       "    .dataframe tbody tr th {\n",
       "        vertical-align: top;\n",
       "    }\n",
       "\n",
       "    .dataframe thead th {\n",
       "        text-align: right;\n",
       "    }\n",
       "</style>\n",
       "<table border=\"1\" class=\"dataframe\">\n",
       "  <thead>\n",
       "    <tr style=\"text-align: right;\">\n",
       "      <th></th>\n",
       "      <th>Year</th>\n",
       "      <th>State</th>\n",
       "      <th>Total Deaths</th>\n",
       "      <th>Population</th>\n",
       "      <th>Crude Rate</th>\n",
       "      <th>Is_Strict</th>\n",
       "    </tr>\n",
       "  </thead>\n",
       "  <tbody>\n",
       "    <tr>\n",
       "      <td>361</td>\n",
       "      <td>2006</td>\n",
       "      <td>California</td>\n",
       "      <td>3323</td>\n",
       "      <td>36021202</td>\n",
       "      <td>9.2</td>\n",
       "      <td>0</td>\n",
       "    </tr>\n",
       "    <tr>\n",
       "      <td>366</td>\n",
       "      <td>2006</td>\n",
       "      <td>Florida</td>\n",
       "      <td>2426</td>\n",
       "      <td>18166990</td>\n",
       "      <td>13.4</td>\n",
       "      <td>1</td>\n",
       "    </tr>\n",
       "    <tr>\n",
       "      <td>367</td>\n",
       "      <td>2006</td>\n",
       "      <td>Georgia</td>\n",
       "      <td>921</td>\n",
       "      <td>9155813</td>\n",
       "      <td>10.1</td>\n",
       "      <td>1</td>\n",
       "    </tr>\n",
       "    <tr>\n",
       "      <td>387</td>\n",
       "      <td>2006</td>\n",
       "      <td>New Jersey</td>\n",
       "      <td>583</td>\n",
       "      <td>8661679</td>\n",
       "      <td>6.7</td>\n",
       "      <td>0</td>\n",
       "    </tr>\n",
       "    <tr>\n",
       "      <td>389</td>\n",
       "      <td>2006</td>\n",
       "      <td>New York</td>\n",
       "      <td>1325</td>\n",
       "      <td>19104631</td>\n",
       "      <td>6.9</td>\n",
       "      <td>0</td>\n",
       "    </tr>\n",
       "    <tr>\n",
       "      <td>...</td>\n",
       "      <td>...</td>\n",
       "      <td>...</td>\n",
       "      <td>...</td>\n",
       "      <td>...</td>\n",
       "      <td>...</td>\n",
       "      <td>...</td>\n",
       "    </tr>\n",
       "    <tr>\n",
       "      <td>978</td>\n",
       "      <td>2018</td>\n",
       "      <td>Florida</td>\n",
       "      <td>3564</td>\n",
       "      <td>21299325</td>\n",
       "      <td>16.7</td>\n",
       "      <td>1</td>\n",
       "    </tr>\n",
       "    <tr>\n",
       "      <td>979</td>\n",
       "      <td>2018</td>\n",
       "      <td>Georgia</td>\n",
       "      <td>1569</td>\n",
       "      <td>10519475</td>\n",
       "      <td>14.9</td>\n",
       "      <td>1</td>\n",
       "    </tr>\n",
       "    <tr>\n",
       "      <td>999</td>\n",
       "      <td>2018</td>\n",
       "      <td>New Jersey</td>\n",
       "      <td>778</td>\n",
       "      <td>8908520</td>\n",
       "      <td>8.7</td>\n",
       "      <td>0</td>\n",
       "    </tr>\n",
       "    <tr>\n",
       "      <td>1001</td>\n",
       "      <td>2018</td>\n",
       "      <td>New York</td>\n",
       "      <td>1720</td>\n",
       "      <td>19542209</td>\n",
       "      <td>8.8</td>\n",
       "      <td>0</td>\n",
       "    </tr>\n",
       "    <tr>\n",
       "      <td>1012</td>\n",
       "      <td>2018</td>\n",
       "      <td>Texas</td>\n",
       "      <td>3928</td>\n",
       "      <td>28701845</td>\n",
       "      <td>13.7</td>\n",
       "      <td>1</td>\n",
       "    </tr>\n",
       "  </tbody>\n",
       "</table>\n",
       "<p>78 rows × 6 columns</p>\n",
       "</div>"
      ],
      "text/plain": [
       "      Year       State  Total Deaths  Population  Crude Rate  Is_Strict\n",
       "361   2006  California          3323    36021202         9.2          0\n",
       "366   2006     Florida          2426    18166990        13.4          1\n",
       "367   2006     Georgia           921     9155813        10.1          1\n",
       "387   2006  New Jersey           583     8661679         6.7          0\n",
       "389   2006    New York          1325    19104631         6.9          0\n",
       "...    ...         ...           ...         ...         ...        ...\n",
       "978   2018     Florida          3564    21299325        16.7          1\n",
       "979   2018     Georgia          1569    10519475        14.9          1\n",
       "999   2018  New Jersey           778     8908520         8.7          0\n",
       "1001  2018    New York          1720    19542209         8.8          0\n",
       "1012  2018       Texas          3928    28701845        13.7          1\n",
       "\n",
       "[78 rows x 6 columns]"
      ]
     },
     "execution_count": 686,
     "metadata": {},
     "output_type": "execute_result"
    }
   ],
   "source": [
    "# Load and clean suicide dataset\n",
    "suicide = pd.read_csv(\"suicide.csv\")\n",
    "suicide = suicide.reset_index()\n",
    "suicide = suicide.drop(columns = ['index',\"Notes\", 'Year.1', 'State', 'Population', 'Crude', 'Rate'])\n",
    "suicide.columns = ['Year', 'State', 'Total Deaths', 'Population', 'Crude Rate']\n",
    "suicide = suicide.query('Year > 2005')\n",
    "suicide = suicide[(suicide.State.isin([\"Texas\",\"Florida\",\"Georgia\", \"New Jersey\", \"New York\", \"California\"]))]\n",
    "suicide[\"Is_Strict\"] = suicide.apply(lambda row: is_strict(row), axis = 1)\n",
    "suicide"
   ]
  },
  {
   "cell_type": "code",
   "execution_count": 687,
   "metadata": {},
   "outputs": [
    {
     "data": {
      "image/png": "[encoded data removed]",
      "text/plain": [
       "<Figure size 432x288 with 1 Axes>"
      ]
     },
     "metadata": {
      "needs_background": "light"
     },
     "output_type": "display_data"
    }
   ],
   "source": [
    "colors = itertools.cycle([\"c\", \"r\", \"g\", \"b\", \"m\", \"y\"])\n",
    "\n",
    "# Plot suicides by year for each of the 6 states\n",
    "seen = []\n",
    "for i, txt in enumerate(suicide.State):\n",
    "    state = str(suicide['State'].iat[i])\n",
    "    if state in seen:\n",
    "        plt.scatter(suicide['Year'].iat[i], suicide['Total Deaths'].iat[i], color = next(colors))\n",
    "        \n",
    "    else:\n",
    "        plt.scatter(suicide['Year'].iat[i], suicide['Total Deaths'].iat[i], color = next(colors), label = suicide['State'].iat[i])\n",
    "    seen.append(suicide['State'].iat[i])\n",
    "\n",
    "# Labels and legends for suicides graphical representation\n",
    "connect_dots(suicide) \n",
    "plt.legend(loc=\"center left\",ncol = 2, bbox_to_anchor = (1,.5))\n",
    "plt.ylabel(\"# of Suicides\")\n",
    "plt.xlabel(\"Year\")\n",
    "plt.title(\"Suicides per Year\")\n",
    "plt.show()"
   ]
  },
  {
   "cell_type": "markdown",
   "metadata": {},
   "source": [
    "### 2.2: Suicide Rates Conclusion\n",
    "The states that are known as lenient in terms of gun control have red lines connecting them, and states that are known as strict have blue lines connecting them. Relative to each state's population, it seems that states with easy access to weapons and lenient gun laws have a higher suicide rate than states with strict gun laws. These figures are somewhat proportional, whereas murder rate was not (comparing only Texas and California), because if someone is willing to go to the lengths to kill someone, they most likely will desregard any laws preventing them from acquiring a weapon to do this. This doesn't tell the complete story of suicides, as there are many other factors to consider for each state (access to mental health services, public health resources, etc.), but certainly shows that access to a firearm makes a noticeable impact on the number of suicides.\n",
    "\n",
    "Further reading on gun access and suicide rates: https://www.hsph.harvard.edu/means-matter/means-matter/risk/"
   ]
  },
  {
   "cell_type": "markdown",
   "metadata": {},
   "source": [
    "# Part 3: Mass Shootings "
   ]
  },
  {
   "cell_type": "markdown",
   "metadata": {},
   "source": [
    "Finally, we will compare mass shootings from strict and lenient states between the years 2015-2017."
   ]
  },
  {
   "cell_type": "markdown",
   "metadata": {},
   "source": [
    "### 3.1: Data Preparation "
   ]
  },
  {
   "cell_type": "code",
   "execution_count": 688,
   "metadata": {},
   "outputs": [
    {
     "data": {
      "text/html": [
       "<div>\n",
       "<style scoped>\n",
       "    .dataframe tbody tr th:only-of-type {\n",
       "        vertical-align: middle;\n",
       "    }\n",
       "\n",
       "    .dataframe tbody tr th {\n",
       "        vertical-align: top;\n",
       "    }\n",
       "\n",
       "    .dataframe thead th {\n",
       "        text-align: right;\n",
       "    }\n",
       "</style>\n",
       "<table border=\"1\" class=\"dataframe\">\n",
       "  <thead>\n",
       "    <tr style=\"text-align: right;\">\n",
       "      <th></th>\n",
       "      <th># Killed</th>\n",
       "      <th># Injured</th>\n",
       "    </tr>\n",
       "    <tr>\n",
       "      <th>State</th>\n",
       "      <th></th>\n",
       "      <th></th>\n",
       "    </tr>\n",
       "  </thead>\n",
       "  <tbody>\n",
       "    <tr>\n",
       "      <td>California</td>\n",
       "      <td>59</td>\n",
       "      <td>228</td>\n",
       "    </tr>\n",
       "    <tr>\n",
       "      <td>Georgia</td>\n",
       "      <td>28</td>\n",
       "      <td>84</td>\n",
       "    </tr>\n",
       "    <tr>\n",
       "      <td>Illinois</td>\n",
       "      <td>33</td>\n",
       "      <td>211</td>\n",
       "    </tr>\n",
       "    <tr>\n",
       "      <td>Massachusetts</td>\n",
       "      <td>2</td>\n",
       "      <td>13</td>\n",
       "    </tr>\n",
       "    <tr>\n",
       "      <td>Michigan</td>\n",
       "      <td>16</td>\n",
       "      <td>54</td>\n",
       "    </tr>\n",
       "    <tr>\n",
       "      <td>Missouri</td>\n",
       "      <td>13</td>\n",
       "      <td>48</td>\n",
       "    </tr>\n",
       "    <tr>\n",
       "      <td>New Jersey</td>\n",
       "      <td>3</td>\n",
       "      <td>40</td>\n",
       "    </tr>\n",
       "    <tr>\n",
       "      <td>New York</td>\n",
       "      <td>10</td>\n",
       "      <td>90</td>\n",
       "    </tr>\n",
       "    <tr>\n",
       "      <td>Pennsylvania</td>\n",
       "      <td>20</td>\n",
       "      <td>66</td>\n",
       "    </tr>\n",
       "    <tr>\n",
       "      <td>Texas</td>\n",
       "      <td>52</td>\n",
       "      <td>129</td>\n",
       "    </tr>\n",
       "    <tr>\n",
       "      <td>Virginia</td>\n",
       "      <td>14</td>\n",
       "      <td>45</td>\n",
       "    </tr>\n",
       "  </tbody>\n",
       "</table>\n",
       "</div>"
      ],
      "text/plain": [
       "               # Killed  # Injured\n",
       "State                             \n",
       "California           59        228\n",
       "Georgia              28         84\n",
       "Illinois             33        211\n",
       "Massachusetts         2         13\n",
       "Michigan             16         54\n",
       "Missouri             13         48\n",
       "New Jersey            3         40\n",
       "New York             10         90\n",
       "Pennsylvania         20         66\n",
       "Texas                52        129\n",
       "Virginia             14         45"
      ]
     },
     "execution_count": 688,
     "metadata": {},
     "output_type": "execute_result"
    }
   ],
   "source": [
    "# Load and clean mass shooting data\n",
    "m = pd.read_csv(\"/Users/nickcarrolli/Downloads/gun-violence-database/mass_shootings_all.csv\")\n",
    "\n",
    "for i, row in m.iterrows():\n",
    "    date = row['Incident Date']\n",
    "    date = date.split(' ')[2]\n",
    "    m.at[i, 'Incident Date'] = date\n",
    "\n",
    "m = m.drop(columns = ['City Or County', 'Address', 'Operations'])\n",
    "m = m[(m.State.isin([\"California\",\"Texas\",\"Illinois\", \"New York\", \"Pennsylvania\", \"Michigan\", \"Massachusetts\", \"New Jersey\", \"Virginia\", \"Missouri\", \"Georgia\"]))]\n",
    "\n",
    "m.columns = ['Year', 'State', '# Killed', '# Injured']\n",
    "grouped = m.groupby('State').sum()\n",
    "grouped"
   ]
  },
  {
   "cell_type": "code",
   "execution_count": 689,
   "metadata": {},
   "outputs": [
    {
     "data": {
      "image/png": "[encoded data removed]",
      "text/plain": [
       "<Figure size 432x288 with 1 Axes>"
      ]
     },
     "metadata": {
      "needs_background": "light"
     },
     "output_type": "display_data"
    }
   ],
   "source": [
    "labels = grouped.index\n",
    "\n",
    "# Count number killed and number injured from the cleaned dataset\n",
    "num_killed = [i for i in grouped[\"# Killed\"]]\n",
    "num_injured = [i for i in grouped[\"# Injured\"]]\n",
    "pos = np.arange(len(labels))\n",
    "\n",
    "width = 0.35  # the width of the bars\n",
    "\n",
    "# Plot number injured and number killed for each state \n",
    "fig, ax = plt.subplots()\n",
    "rects1 = ax.bar(pos - width/2, num_killed, width, label='# Killed', color = \"red\")\n",
    "rects2 = ax.bar(pos + width/2, num_injured, width, label='# Injured')\n",
    "ax.set_ylabel('# of Injuries/Deaths by Mass Shooting')\n",
    "ax.set_title('Number of Mass Shootings')\n",
    "ax.set_xticks(pos)\n",
    "ax.set_xticklabels(labels, rotation = 45)\n",
    "ax.legend()\n",
    "plt.show()"
   ]
  },
  {
   "cell_type": "markdown",
   "metadata": {},
   "source": [
    "### 3.2: Mass Shootings Conclusion:\n",
    "Texas and Georgia have relatively low mass shooting numbers compared to much smaller states like Illinois, Virginia, and Michigan. Despite Texas' massive population, their mass shooting numbers are comparable to states with much less people. There are various possible factors for something such as this to occur, including criminals being deterred away from crime when upstanding citizens  \n",
    "\n",
    "States with lenient gun laws (Georgia, Texas, and Missouri) have comparable or more mass shootings than states with stricter gun laws. States with strict gun laws like Massachusetts have an extremely low number of people killed/injured in mass shootings. This can be due to a number of factors such as a smaller population and the attitude towards guns by the general population. An interesting factor to consider in this case would be mass shootings per capita which would take into consideration differences in population size in each state.\n",
    "\n",
    "Further reading on the effects of open/concealed carry on mass shootings: https://www.rand.org/research/gun-policy/analysis/concealed-carry/mass-shootings.html"
   ]
  },
  {
   "cell_type": "markdown",
   "metadata": {},
   "source": [
    "# Part 4: Linear Regression"
   ]
  },
  {
   "cell_type": "markdown",
   "metadata": {},
   "source": [
    "### 4.1: Data Preparation "
   ]
  },
  {
   "cell_type": "markdown",
   "metadata": {},
   "source": [
    "We start by creating the linear regression model for total number of murders committed per year. \n",
    "The dataframe being used displays the number of non-firearm, firearm, and total murders for each year between all states.\n",
    "We will use 3 different regressions to try and predict the total number of murders in a year:\n",
    "\n",
    "1) Count associated with year\n",
    "\n",
    "2) Count associated with year and number of firearm murders\n",
    "\n",
    "3) Count associated with year and number of non-firearm murders\n",
    "\n",
    "Using these three factors and splitting the total murders, gun related murders and non gun murders should give us a fresh perspective on how effective America's gun laws truly are.\n"
   ]
  },
  {
   "cell_type": "code",
   "execution_count": 690,
   "metadata": {},
   "outputs": [
    {
     "data": {
      "text/html": [
       "<div>\n",
       "<style scoped>\n",
       "    .dataframe tbody tr th:only-of-type {\n",
       "        vertical-align: middle;\n",
       "    }\n",
       "\n",
       "    .dataframe tbody tr th {\n",
       "        vertical-align: top;\n",
       "    }\n",
       "\n",
       "    .dataframe thead th {\n",
       "        text-align: right;\n",
       "    }\n",
       "</style>\n",
       "<table border=\"1\" class=\"dataframe\">\n",
       "  <thead>\n",
       "    <tr style=\"text-align: right;\">\n",
       "      <th></th>\n",
       "      <th>Year</th>\n",
       "      <th>NonFirearm</th>\n",
       "      <th>Firearm</th>\n",
       "      <th>Count</th>\n",
       "    </tr>\n",
       "  </thead>\n",
       "  <tbody>\n",
       "    <tr>\n",
       "      <td>0</td>\n",
       "      <td>1980</td>\n",
       "      <td>8340</td>\n",
       "      <td>14752</td>\n",
       "      <td>23092</td>\n",
       "    </tr>\n",
       "    <tr>\n",
       "      <td>1</td>\n",
       "      <td>1981</td>\n",
       "      <td>7672</td>\n",
       "      <td>13536</td>\n",
       "      <td>21208</td>\n",
       "    </tr>\n",
       "    <tr>\n",
       "      <td>2</td>\n",
       "      <td>1982</td>\n",
       "      <td>7889</td>\n",
       "      <td>12655</td>\n",
       "      <td>20544</td>\n",
       "    </tr>\n",
       "    <tr>\n",
       "      <td>3</td>\n",
       "      <td>1983</td>\n",
       "      <td>7901</td>\n",
       "      <td>11752</td>\n",
       "      <td>19653</td>\n",
       "    </tr>\n",
       "    <tr>\n",
       "      <td>4</td>\n",
       "      <td>1984</td>\n",
       "      <td>7191</td>\n",
       "      <td>10902</td>\n",
       "      <td>18093</td>\n",
       "    </tr>\n",
       "  </tbody>\n",
       "</table>\n",
       "</div>"
      ],
      "text/plain": [
       "   Year  NonFirearm  Firearm  Count\n",
       "0  1980        8340    14752  23092\n",
       "1  1981        7672    13536  21208\n",
       "2  1982        7889    12655  20544\n",
       "3  1983        7901    11752  19653\n",
       "4  1984        7191    10902  18093"
      ]
     },
     "execution_count": 690,
     "metadata": {},
     "output_type": "execute_result"
    }
   ],
   "source": [
    "# Split data into firearm and non-firearm dataframes\n",
    "firearm =  us_crime.query('Is_Firearm == 1')\n",
    "non_firearm = us_crime.query('Is_Firearm == 0')\n",
    "\n",
    "# Get number of firearm related deaths for each year\n",
    "firearm_data = firearm.copy().groupby(firearm['Year'], as_index=True, group_keys=True).count()\n",
    "firearm_count = firearm_data[['Record ID']].reset_index()\n",
    "firearm_count = firearm_count.rename(index=str, columns={'Record ID' : 'Count'})\n",
    "\n",
    "# Get number of non-firearm related deaths for each year4\n",
    "non_firearm_data = non_firearm.copy().groupby(non_firearm['Year'], as_index=True, group_keys=True).count()\n",
    "non_firearm_count = non_firearm_data[['Record ID']].reset_index()\n",
    "non_firearm_count = non_firearm_count.rename(index=str, columns={'Record ID' : 'Count'})\n",
    "non_firearm_count\n",
    "\n",
    "# Merge non-firearm and firearm dataframes\n",
    "total_count = pd.merge(non_firearm_count, firearm_count, on=['Year'], how = \"inner\")\n",
    "total_count = pd.merge(total_count, total, on=['Year'], how = \"inner\")\n",
    "total_count.columns = ['Year', 'NonFirearm', 'Firearm', 'Count', 'Pred']\n",
    "total_count = total_count.drop(columns = [\"Pred\"])\n",
    "total_count.head()\n"
   ]
  },
  {
   "cell_type": "markdown",
   "metadata": {},
   "source": [
    "### 4.2: Linear Regression Model"
   ]
  },
  {
   "cell_type": "code",
   "execution_count": 691,
   "metadata": {},
   "outputs": [
    {
     "data": {
      "image/png": "[encoded data removed]",
      "text/plain": [
       "<Figure size 432x288 with 1 Axes>"
      ]
     },
     "metadata": {
      "needs_background": "light"
     },
     "output_type": "display_data"
    }
   ],
   "source": [
    "X = total_count['Year'].values.reshape(-1,1)\n",
    "y = total_count['Count'].values.reshape(-1,1)\n",
    "\n",
    "reg = LinearRegression().fit(X,y)\n",
    "\n",
    "preds = reg.predict(X).flatten()\n",
    "i = 0\n",
    "for i, j in total_count.iterrows():\n",
    "    total_count.at[i, 'Pred'] = preds[i]\n",
    "    i = i+1\n",
    "    \n",
    "plt.plot(total_count['Year'], total_count['Count'], color='blue',)\n",
    "plt.plot(total_count['Year'], total_count['Pred'], color='red')\n",
    "plt.xlabel(\"Year\")\n",
    "plt.ylabel(\"Count of Murders\")\n",
    "plt.title(\"Murder Count per Year with Linear Regression\")\n",
    "plt.show()\n",
    "#this regression model will show us the murder count per year. We can clearly see from the graph displayed that \n",
    "#between 2007 and 2015, the murder count per year evens out and is a nearly linear decline."
   ]
  },
  {
   "cell_type": "markdown",
   "metadata": {},
   "source": [
    "### 4.3: Count Associated with Year"
   ]
  },
  {
   "cell_type": "code",
   "execution_count": 692,
   "metadata": {},
   "outputs": [
    {
     "data": {
      "text/html": [
       "<table class=\"simpletable\">\n",
       "<caption>OLS Regression Results</caption>\n",
       "<tr>\n",
       "  <th>Dep. Variable:</th>          <td>Count</td>      <th>  R-squared:         </th> <td>   0.541</td>\n",
       "</tr>\n",
       "<tr>\n",
       "  <th>Model:</th>                   <td>OLS</td>       <th>  Adj. R-squared:    </th> <td>   0.527</td>\n",
       "</tr>\n",
       "<tr>\n",
       "  <th>Method:</th>             <td>Least Squares</td>  <th>  F-statistic:       </th> <td>   38.93</td>\n",
       "</tr>\n",
       "<tr>\n",
       "  <th>Date:</th>             <td>Sun, 10 May 2020</td> <th>  Prob (F-statistic):</th> <td>4.78e-07</td>\n",
       "</tr>\n",
       "<tr>\n",
       "  <th>Time:</th>                 <td>19:03:35</td>     <th>  Log-Likelihood:    </th> <td> -315.58</td>\n",
       "</tr>\n",
       "<tr>\n",
       "  <th>No. Observations:</th>      <td>    35</td>      <th>  AIC:               </th> <td>   635.2</td>\n",
       "</tr>\n",
       "<tr>\n",
       "  <th>Df Residuals:</th>          <td>    33</td>      <th>  BIC:               </th> <td>   638.3</td>\n",
       "</tr>\n",
       "<tr>\n",
       "  <th>Df Model:</th>              <td>     1</td>      <th>                     </th>     <td> </td>   \n",
       "</tr>\n",
       "<tr>\n",
       "  <th>Covariance Type:</th>      <td>nonrobust</td>    <th>                     </th>     <td> </td>   \n",
       "</tr>\n",
       "</table>\n",
       "<table class=\"simpletable\">\n",
       "<tr>\n",
       "      <td></td>         <th>coef</th>     <th>std err</th>      <th>t</th>      <th>P>|t|</th>  <th>[0.025</th>    <th>0.975]</th>  \n",
       "</tr>\n",
       "<tr>\n",
       "  <th>Intercept</th> <td> 4.464e+05</td> <td> 6.86e+04</td> <td>    6.505</td> <td> 0.000</td> <td> 3.07e+05</td> <td> 5.86e+05</td>\n",
       "</tr>\n",
       "<tr>\n",
       "  <th>Year</th>      <td> -214.4092</td> <td>   34.364</td> <td>   -6.239</td> <td> 0.000</td> <td> -284.324</td> <td> -144.494</td>\n",
       "</tr>\n",
       "</table>\n",
       "<table class=\"simpletable\">\n",
       "<tr>\n",
       "  <th>Omnibus:</th>       <td> 6.603</td> <th>  Durbin-Watson:     </th> <td>   0.285</td>\n",
       "</tr>\n",
       "<tr>\n",
       "  <th>Prob(Omnibus):</th> <td> 0.037</td> <th>  Jarque-Bera (JB):  </th> <td>   5.211</td>\n",
       "</tr>\n",
       "<tr>\n",
       "  <th>Skew:</th>          <td> 0.897</td> <th>  Prob(JB):          </th> <td>  0.0739</td>\n",
       "</tr>\n",
       "<tr>\n",
       "  <th>Kurtosis:</th>      <td> 3.594</td> <th>  Cond. No.          </th> <td>3.95e+05</td>\n",
       "</tr>\n",
       "</table><br/><br/>Warnings:<br/>[1] Standard Errors assume that the covariance matrix of the errors is correctly specified.<br/>[2] The condition number is large, 3.95e+05. This might indicate that there are<br/>strong multicollinearity or other numerical problems."
      ],
      "text/plain": [
       "<class 'statsmodels.iolib.summary.Summary'>\n",
       "\"\"\"\n",
       "                            OLS Regression Results                            \n",
       "==============================================================================\n",
       "Dep. Variable:                  Count   R-squared:                       0.541\n",
       "Model:                            OLS   Adj. R-squared:                  0.527\n",
       "Method:                 Least Squares   F-statistic:                     38.93\n",
       "Date:                Sun, 10 May 2020   Prob (F-statistic):           4.78e-07\n",
       "Time:                        19:03:35   Log-Likelihood:                -315.58\n",
       "No. Observations:                  35   AIC:                             635.2\n",
       "Df Residuals:                      33   BIC:                             638.3\n",
       "Df Model:                           1                                         \n",
       "Covariance Type:            nonrobust                                         \n",
       "==============================================================================\n",
       "                 coef    std err          t      P>|t|      [0.025      0.975]\n",
       "------------------------------------------------------------------------------\n",
       "Intercept   4.464e+05   6.86e+04      6.505      0.000    3.07e+05    5.86e+05\n",
       "Year        -214.4092     34.364     -6.239      0.000    -284.324    -144.494\n",
       "==============================================================================\n",
       "Omnibus:                        6.603   Durbin-Watson:                   0.285\n",
       "Prob(Omnibus):                  0.037   Jarque-Bera (JB):                5.211\n",
       "Skew:                           0.897   Prob(JB):                       0.0739\n",
       "Kurtosis:                       3.594   Cond. No.                     3.95e+05\n",
       "==============================================================================\n",
       "\n",
       "Warnings:\n",
       "[1] Standard Errors assume that the covariance matrix of the errors is correctly specified.\n",
       "[2] The condition number is large, 3.95e+05. This might indicate that there are\n",
       "strong multicollinearity or other numerical problems.\n",
       "\"\"\""
      ]
     },
     "execution_count": 692,
     "metadata": {},
     "output_type": "execute_result"
    }
   ],
   "source": [
    "reg1 = ols(formula = 'Count ~ Year', data = total_count).fit()\n",
    "reg1.summary()"
   ]
  },
  {
   "cell_type": "markdown",
   "metadata": {},
   "source": [
    "### 4.4: Count Associated with Year and Firearm Crimes"
   ]
  },
  {
   "cell_type": "code",
   "execution_count": 693,
   "metadata": {},
   "outputs": [
    {
     "data": {
      "text/html": [
       "<table class=\"simpletable\">\n",
       "<caption>OLS Regression Results</caption>\n",
       "<tr>\n",
       "  <th>Dep. Variable:</th>          <td>Count</td>      <th>  R-squared:         </th> <td>   0.991</td>\n",
       "</tr>\n",
       "<tr>\n",
       "  <th>Model:</th>                   <td>OLS</td>       <th>  Adj. R-squared:    </th> <td>   0.990</td>\n",
       "</tr>\n",
       "<tr>\n",
       "  <th>Method:</th>             <td>Least Squares</td>  <th>  F-statistic:       </th> <td>   1708.</td>\n",
       "</tr>\n",
       "<tr>\n",
       "  <th>Date:</th>             <td>Sun, 10 May 2020</td> <th>  Prob (F-statistic):</th> <td>3.04e-33</td>\n",
       "</tr>\n",
       "<tr>\n",
       "  <th>Time:</th>                 <td>19:03:35</td>     <th>  Log-Likelihood:    </th> <td> -247.33</td>\n",
       "</tr>\n",
       "<tr>\n",
       "  <th>No. Observations:</th>      <td>    35</td>      <th>  AIC:               </th> <td>   500.7</td>\n",
       "</tr>\n",
       "<tr>\n",
       "  <th>Df Residuals:</th>          <td>    32</td>      <th>  BIC:               </th> <td>   505.3</td>\n",
       "</tr>\n",
       "<tr>\n",
       "  <th>Df Model:</th>              <td>     2</td>      <th>                     </th>     <td> </td>   \n",
       "</tr>\n",
       "<tr>\n",
       "  <th>Covariance Type:</th>      <td>nonrobust</td>    <th>                     </th>     <td> </td>   \n",
       "</tr>\n",
       "</table>\n",
       "<table class=\"simpletable\">\n",
       "<tr>\n",
       "      <td></td>         <th>coef</th>     <th>std err</th>      <th>t</th>      <th>P>|t|</th>  <th>[0.025</th>    <th>0.975]</th>  \n",
       "</tr>\n",
       "<tr>\n",
       "  <th>Intercept</th> <td> 2.066e+05</td> <td> 1.16e+04</td> <td>   17.755</td> <td> 0.000</td> <td> 1.83e+05</td> <td>  2.3e+05</td>\n",
       "</tr>\n",
       "<tr>\n",
       "  <th>Year</th>      <td> -101.1149</td> <td>    5.738</td> <td>  -17.623</td> <td> 0.000</td> <td> -112.802</td> <td>  -89.427</td>\n",
       "</tr>\n",
       "<tr>\n",
       "  <th>Firearm</th>   <td>    1.1302</td> <td>    0.029</td> <td>   39.365</td> <td> 0.000</td> <td>    1.072</td> <td>    1.189</td>\n",
       "</tr>\n",
       "</table>\n",
       "<table class=\"simpletable\">\n",
       "<tr>\n",
       "  <th>Omnibus:</th>       <td> 1.360</td> <th>  Durbin-Watson:     </th> <td>   0.904</td>\n",
       "</tr>\n",
       "<tr>\n",
       "  <th>Prob(Omnibus):</th> <td> 0.507</td> <th>  Jarque-Bera (JB):  </th> <td>   0.792</td>\n",
       "</tr>\n",
       "<tr>\n",
       "  <th>Skew:</th>          <td>-0.366</td> <th>  Prob(JB):          </th> <td>   0.673</td>\n",
       "</tr>\n",
       "<tr>\n",
       "  <th>Kurtosis:</th>      <td> 3.083</td> <th>  Cond. No.          </th> <td>2.87e+06</td>\n",
       "</tr>\n",
       "</table><br/><br/>Warnings:<br/>[1] Standard Errors assume that the covariance matrix of the errors is correctly specified.<br/>[2] The condition number is large, 2.87e+06. This might indicate that there are<br/>strong multicollinearity or other numerical problems."
      ],
      "text/plain": [
       "<class 'statsmodels.iolib.summary.Summary'>\n",
       "\"\"\"\n",
       "                            OLS Regression Results                            \n",
       "==============================================================================\n",
       "Dep. Variable:                  Count   R-squared:                       0.991\n",
       "Model:                            OLS   Adj. R-squared:                  0.990\n",
       "Method:                 Least Squares   F-statistic:                     1708.\n",
       "Date:                Sun, 10 May 2020   Prob (F-statistic):           3.04e-33\n",
       "Time:                        19:03:35   Log-Likelihood:                -247.33\n",
       "No. Observations:                  35   AIC:                             500.7\n",
       "Df Residuals:                      32   BIC:                             505.3\n",
       "Df Model:                           2                                         \n",
       "Covariance Type:            nonrobust                                         \n",
       "==============================================================================\n",
       "                 coef    std err          t      P>|t|      [0.025      0.975]\n",
       "------------------------------------------------------------------------------\n",
       "Intercept   2.066e+05   1.16e+04     17.755      0.000    1.83e+05     2.3e+05\n",
       "Year        -101.1149      5.738    -17.623      0.000    -112.802     -89.427\n",
       "Firearm        1.1302      0.029     39.365      0.000       1.072       1.189\n",
       "==============================================================================\n",
       "Omnibus:                        1.360   Durbin-Watson:                   0.904\n",
       "Prob(Omnibus):                  0.507   Jarque-Bera (JB):                0.792\n",
       "Skew:                          -0.366   Prob(JB):                        0.673\n",
       "Kurtosis:                       3.083   Cond. No.                     2.87e+06\n",
       "==============================================================================\n",
       "\n",
       "Warnings:\n",
       "[1] Standard Errors assume that the covariance matrix of the errors is correctly specified.\n",
       "[2] The condition number is large, 2.87e+06. This might indicate that there are\n",
       "strong multicollinearity or other numerical problems.\n",
       "\"\"\""
      ]
     },
     "execution_count": 693,
     "metadata": {},
     "output_type": "execute_result"
    }
   ],
   "source": [
    "reg2 = ols(formula = 'Count ~ Year + Firearm', data = total_count).fit()\n",
    "reg2.summary()"
   ]
  },
  {
   "cell_type": "markdown",
   "metadata": {},
   "source": [
    "### 4.5: Count Associated with Year and Non-Firearm Crimes"
   ]
  },
  {
   "cell_type": "code",
   "execution_count": 694,
   "metadata": {},
   "outputs": [
    {
     "data": {
      "text/html": [
       "<table class=\"simpletable\">\n",
       "<caption>OLS Regression Results</caption>\n",
       "<tr>\n",
       "  <th>Dep. Variable:</th>          <td>Count</td>      <th>  R-squared:         </th> <td>   0.786</td>\n",
       "</tr>\n",
       "<tr>\n",
       "  <th>Model:</th>                   <td>OLS</td>       <th>  Adj. R-squared:    </th> <td>   0.772</td>\n",
       "</tr>\n",
       "<tr>\n",
       "  <th>Method:</th>             <td>Least Squares</td>  <th>  F-statistic:       </th> <td>   58.69</td>\n",
       "</tr>\n",
       "<tr>\n",
       "  <th>Date:</th>             <td>Sun, 10 May 2020</td> <th>  Prob (F-statistic):</th> <td>1.97e-11</td>\n",
       "</tr>\n",
       "<tr>\n",
       "  <th>Time:</th>                 <td>19:03:35</td>     <th>  Log-Likelihood:    </th> <td> -302.26</td>\n",
       "</tr>\n",
       "<tr>\n",
       "  <th>No. Observations:</th>      <td>    35</td>      <th>  AIC:               </th> <td>   610.5</td>\n",
       "</tr>\n",
       "<tr>\n",
       "  <th>Df Residuals:</th>          <td>    32</td>      <th>  BIC:               </th> <td>   615.2</td>\n",
       "</tr>\n",
       "<tr>\n",
       "  <th>Df Model:</th>              <td>     2</td>      <th>                     </th>     <td> </td>   \n",
       "</tr>\n",
       "<tr>\n",
       "  <th>Covariance Type:</th>      <td>nonrobust</td>    <th>                     </th>     <td> </td>   \n",
       "</tr>\n",
       "</table>\n",
       "<table class=\"simpletable\">\n",
       "<tr>\n",
       "       <td></td>         <th>coef</th>     <th>std err</th>      <th>t</th>      <th>P>|t|</th>  <th>[0.025</th>    <th>0.975]</th>  \n",
       "</tr>\n",
       "<tr>\n",
       "  <th>Intercept</th>  <td>-4.916e+05</td> <td> 1.62e+05</td> <td>   -3.028</td> <td> 0.005</td> <td>-8.22e+05</td> <td>-1.61e+05</td>\n",
       "</tr>\n",
       "<tr>\n",
       "  <th>Year</th>       <td>  242.8162</td> <td>   79.317</td> <td>    3.061</td> <td> 0.004</td> <td>   81.253</td> <td>  404.379</td>\n",
       "</tr>\n",
       "<tr>\n",
       "  <th>NonFirearm</th> <td>    4.0049</td> <td>    0.663</td> <td>    6.044</td> <td> 0.000</td> <td>    2.655</td> <td>    5.355</td>\n",
       "</tr>\n",
       "</table>\n",
       "<table class=\"simpletable\">\n",
       "<tr>\n",
       "  <th>Omnibus:</th>       <td> 2.847</td> <th>  Durbin-Watson:     </th> <td>   0.443</td>\n",
       "</tr>\n",
       "<tr>\n",
       "  <th>Prob(Omnibus):</th> <td> 0.241</td> <th>  Jarque-Bera (JB):  </th> <td>   1.901</td>\n",
       "</tr>\n",
       "<tr>\n",
       "  <th>Skew:</th>          <td> 0.560</td> <th>  Prob(JB):          </th> <td>   0.387</td>\n",
       "</tr>\n",
       "<tr>\n",
       "  <th>Kurtosis:</th>      <td> 3.223</td> <th>  Cond. No.          </th> <td>4.47e+06</td>\n",
       "</tr>\n",
       "</table><br/><br/>Warnings:<br/>[1] Standard Errors assume that the covariance matrix of the errors is correctly specified.<br/>[2] The condition number is large, 4.47e+06. This might indicate that there are<br/>strong multicollinearity or other numerical problems."
      ],
      "text/plain": [
       "<class 'statsmodels.iolib.summary.Summary'>\n",
       "\"\"\"\n",
       "                            OLS Regression Results                            \n",
       "==============================================================================\n",
       "Dep. Variable:                  Count   R-squared:                       0.786\n",
       "Model:                            OLS   Adj. R-squared:                  0.772\n",
       "Method:                 Least Squares   F-statistic:                     58.69\n",
       "Date:                Sun, 10 May 2020   Prob (F-statistic):           1.97e-11\n",
       "Time:                        19:03:35   Log-Likelihood:                -302.26\n",
       "No. Observations:                  35   AIC:                             610.5\n",
       "Df Residuals:                      32   BIC:                             615.2\n",
       "Df Model:                           2                                         \n",
       "Covariance Type:            nonrobust                                         \n",
       "==============================================================================\n",
       "                 coef    std err          t      P>|t|      [0.025      0.975]\n",
       "------------------------------------------------------------------------------\n",
       "Intercept  -4.916e+05   1.62e+05     -3.028      0.005   -8.22e+05   -1.61e+05\n",
       "Year         242.8162     79.317      3.061      0.004      81.253     404.379\n",
       "NonFirearm     4.0049      0.663      6.044      0.000       2.655       5.355\n",
       "==============================================================================\n",
       "Omnibus:                        2.847   Durbin-Watson:                   0.443\n",
       "Prob(Omnibus):                  0.241   Jarque-Bera (JB):                1.901\n",
       "Skew:                           0.560   Prob(JB):                        0.387\n",
       "Kurtosis:                       3.223   Cond. No.                     4.47e+06\n",
       "==============================================================================\n",
       "\n",
       "Warnings:\n",
       "[1] Standard Errors assume that the covariance matrix of the errors is correctly specified.\n",
       "[2] The condition number is large, 4.47e+06. This might indicate that there are\n",
       "strong multicollinearity or other numerical problems.\n",
       "\"\"\""
      ]
     },
     "execution_count": 694,
     "metadata": {},
     "output_type": "execute_result"
    }
   ],
   "source": [
    "reg3 = ols(formula = 'Count ~ Year + NonFirearm', data = total_count).fit()\n",
    "reg3.summary()"
   ]
  },
  {
   "cell_type": "markdown",
   "metadata": {},
   "source": [
    "### 4.6: Linear Regression Conclusion\n",
    "The model associating murders with year and firearm seems to be the best at predicting the total number of murders in a year. This is because the probability of the f-statistic is by far the smallest in the second model (3.04 x 10^-33). This tells us that the number of firearm murders in a year is more correlated to the total number of murders than non-firearm murders."
   ]
  },
  {
   "cell_type": "markdown",
   "metadata": {},
   "source": [
    "# Part 5: Hypothesis Testing"
   ]
  },
  {
   "cell_type": "markdown",
   "metadata": {},
   "source": [
    "### 5.1: Count Associated with Year "
   ]
  },
  {
   "cell_type": "code",
   "execution_count": 695,
   "metadata": {},
   "outputs": [
    {
     "data": {
      "text/html": [
       "<div>\n",
       "<style scoped>\n",
       "    .dataframe tbody tr th:only-of-type {\n",
       "        vertical-align: middle;\n",
       "    }\n",
       "\n",
       "    .dataframe tbody tr th {\n",
       "        vertical-align: top;\n",
       "    }\n",
       "\n",
       "    .dataframe thead th {\n",
       "        text-align: right;\n",
       "    }\n",
       "</style>\n",
       "<table border=\"1\" class=\"dataframe\">\n",
       "  <thead>\n",
       "    <tr style=\"text-align: right;\">\n",
       "      <th></th>\n",
       "      <th>sum_sq</th>\n",
       "      <th>df</th>\n",
       "      <th>F</th>\n",
       "      <th>PR(&gt;F)</th>\n",
       "    </tr>\n",
       "  </thead>\n",
       "  <tbody>\n",
       "    <tr>\n",
       "      <td>Year</td>\n",
       "      <td>1.641176e+08</td>\n",
       "      <td>1.0</td>\n",
       "      <td>38.928523</td>\n",
       "      <td>4.779064e-07</td>\n",
       "    </tr>\n",
       "    <tr>\n",
       "      <td>Residual</td>\n",
       "      <td>1.391237e+08</td>\n",
       "      <td>33.0</td>\n",
       "      <td>NaN</td>\n",
       "      <td>NaN</td>\n",
       "    </tr>\n",
       "  </tbody>\n",
       "</table>\n",
       "</div>"
      ],
      "text/plain": [
       "                sum_sq    df          F        PR(>F)\n",
       "Year      1.641176e+08   1.0  38.928523  4.779064e-07\n",
       "Residual  1.391237e+08  33.0        NaN           NaN"
      ]
     },
     "execution_count": 695,
     "metadata": {},
     "output_type": "execute_result"
    }
   ],
   "source": [
    "res = sm.stats.anova_lm(reg1, typ = 2)\n",
    "res"
   ]
  },
  {
   "cell_type": "markdown",
   "metadata": {},
   "source": [
    "### 5.2: Count Associated with Year and Firearm Crimes"
   ]
  },
  {
   "cell_type": "code",
   "execution_count": 696,
   "metadata": {},
   "outputs": [
    {
     "data": {
      "text/html": [
       "<div>\n",
       "<style scoped>\n",
       "    .dataframe tbody tr th:only-of-type {\n",
       "        vertical-align: middle;\n",
       "    }\n",
       "\n",
       "    .dataframe tbody tr th {\n",
       "        vertical-align: top;\n",
       "    }\n",
       "\n",
       "    .dataframe thead th {\n",
       "        text-align: right;\n",
       "    }\n",
       "</style>\n",
       "<table border=\"1\" class=\"dataframe\">\n",
       "  <thead>\n",
       "    <tr style=\"text-align: right;\">\n",
       "      <th></th>\n",
       "      <th>sum_sq</th>\n",
       "      <th>df</th>\n",
       "      <th>F</th>\n",
       "      <th>PR(&gt;F)</th>\n",
       "    </tr>\n",
       "  </thead>\n",
       "  <tbody>\n",
       "    <tr>\n",
       "      <td>Year</td>\n",
       "      <td>2.731722e+07</td>\n",
       "      <td>1.0</td>\n",
       "      <td>310.557580</td>\n",
       "      <td>4.927468e-18</td>\n",
       "    </tr>\n",
       "    <tr>\n",
       "      <td>Firearm</td>\n",
       "      <td>1.363090e+08</td>\n",
       "      <td>1.0</td>\n",
       "      <td>1549.637052</td>\n",
       "      <td>1.113879e-28</td>\n",
       "    </tr>\n",
       "    <tr>\n",
       "      <td>Residual</td>\n",
       "      <td>2.814780e+06</td>\n",
       "      <td>32.0</td>\n",
       "      <td>NaN</td>\n",
       "      <td>NaN</td>\n",
       "    </tr>\n",
       "  </tbody>\n",
       "</table>\n",
       "</div>"
      ],
      "text/plain": [
       "                sum_sq    df            F        PR(>F)\n",
       "Year      2.731722e+07   1.0   310.557580  4.927468e-18\n",
       "Firearm   1.363090e+08   1.0  1549.637052  1.113879e-28\n",
       "Residual  2.814780e+06  32.0          NaN           NaN"
      ]
     },
     "execution_count": 696,
     "metadata": {},
     "output_type": "execute_result"
    }
   ],
   "source": [
    "res2 = sm.stats.anova_lm(reg2, typ = 2)\n",
    "res2"
   ]
  },
  {
   "cell_type": "markdown",
   "metadata": {},
   "source": [
    "### 5.3: Count Associated with Year and Non-Firearm Crimes"
   ]
  },
  {
   "cell_type": "code",
   "execution_count": 697,
   "metadata": {},
   "outputs": [
    {
     "data": {
      "text/html": [
       "<div>\n",
       "<style scoped>\n",
       "    .dataframe tbody tr th:only-of-type {\n",
       "        vertical-align: middle;\n",
       "    }\n",
       "\n",
       "    .dataframe tbody tr th {\n",
       "        vertical-align: top;\n",
       "    }\n",
       "\n",
       "    .dataframe thead th {\n",
       "        text-align: right;\n",
       "    }\n",
       "</style>\n",
       "<table border=\"1\" class=\"dataframe\">\n",
       "  <thead>\n",
       "    <tr style=\"text-align: right;\">\n",
       "      <th></th>\n",
       "      <th>sum_sq</th>\n",
       "      <th>df</th>\n",
       "      <th>F</th>\n",
       "      <th>PR(&gt;F)</th>\n",
       "    </tr>\n",
       "  </thead>\n",
       "  <tbody>\n",
       "    <tr>\n",
       "      <td>Year</td>\n",
       "      <td>1.902537e+07</td>\n",
       "      <td>1.0</td>\n",
       "      <td>9.371872</td>\n",
       "      <td>4.438700e-03</td>\n",
       "    </tr>\n",
       "    <tr>\n",
       "      <td>NonFirearm</td>\n",
       "      <td>7.416214e+07</td>\n",
       "      <td>1.0</td>\n",
       "      <td>36.532175</td>\n",
       "      <td>9.551857e-07</td>\n",
       "    </tr>\n",
       "    <tr>\n",
       "      <td>Residual</td>\n",
       "      <td>6.496160e+07</td>\n",
       "      <td>32.0</td>\n",
       "      <td>NaN</td>\n",
       "      <td>NaN</td>\n",
       "    </tr>\n",
       "  </tbody>\n",
       "</table>\n",
       "</div>"
      ],
      "text/plain": [
       "                  sum_sq    df          F        PR(>F)\n",
       "Year        1.902537e+07   1.0   9.371872  4.438700e-03\n",
       "NonFirearm  7.416214e+07   1.0  36.532175  9.551857e-07\n",
       "Residual    6.496160e+07  32.0        NaN           NaN"
      ]
     },
     "execution_count": 697,
     "metadata": {},
     "output_type": "execute_result"
    }
   ],
   "source": [
    "res3 = sm.stats.anova_lm(reg3, typ = 2)\n",
    "res3"
   ]
  },
  {
   "cell_type": "markdown",
   "metadata": {},
   "source": [
    "### 5.4: Hypothesis Testing Conclusion"
   ]
  },
  {
   "cell_type": "markdown",
   "metadata": {},
   "source": [
    "Between each of the models, the second one seems to be the best at predicting the total number of murders committed. This is because the PR(F) value of the second model is the smallest. As predicted in the previous section, we can say that the the number of firearm murders in a year is most heavily correlated to the total number of murders in a year."
   ]
  },
  {
   "cell_type": "markdown",
   "metadata": {},
   "source": [
    "# Part 6: Conclusion "
   ]
  },
  {
   "cell_type": "markdown",
   "metadata": {},
   "source": [
    "From this short analysis, we have seen that gun laws have their benefits and their drawbacks but don't completely prevent gun-related crimes from happening. \n",
    "\n",
    "Lenient Gun Laws:\n",
    "Less guns overall, but seem to have more murders and mass shootings. There are many more deaths without use of a firearm because most people do not own a firearm. However, since our model showed that the number of firearm murders is most correlated to the total number of murders, this trend might go down in time.\n",
    "\n",
    "Strict Gun Laws:\n",
    "Seem to have a higher suicide rate, however the mass shooting numbers and total number of murders committed seem to be lower in these states. This could be because people who live in states with strict gun laws are cognisant of this fact, and are less likely to commit crimes or go on mass shooting sprees. It's also worth noting that states with more lenient gun laws typically allow its citizens to openly carry or concealed carry which could also explain the fewer number of mass shootings. A more in depth analysis would need to be done to explore the effects on carry laws on the number of gun-related crimes.\n",
    "\n",
    "This analysis showed that while gun laws have their importance in our society, they will not prevent gun violence from happening. Our study of strict and lenient states shows that restricing access to guns doesn't prevent crime from happening. It's a multifaceted problem that will need to be solved with different public policy methods.\n",
    "\n",
    "This analysis is a reminder of how powerful data can be; it allows people to make opinions strictly on facts rather than conjecture. In the future, I hope to improve my data science ability to help educate people on what is happening in the world."
   ]
  },
  {
   "cell_type": "markdown",
   "metadata": {},
   "source": [
    "# Part 7: Further Reading"
   ]
  },
  {
   "cell_type": "markdown",
   "metadata": {},
   "source": [
    "Fewer American Kids Die in States With Tougher Gun Laws, According to This New Study:  \n",
    "https://time.com/5626352/gun-laws-fewer-child-deaths/\n",
    "\n",
    "States with Strict Gun Laws Have Fewer Firearms Deaths:\n",
    "https://www.cnbc.com/2018/02/27/states-with-strict-gun-laws-have-fewer-firearms-deaths-heres-how-your-state-stacks-up.html\n",
    "\n",
    "What Impact Do State Gun Laws Have on Shooting Deaths?:\n",
    "https://www.cbsnews.com/news/gun-control-laws-state-impact-on-shooting-deaths-suicide-study/\n",
    "\n",
    "Gun Violence Statistics:\n",
    "https://lawcenter.giffords.org/facts/gun-violence-statistics/"
   ]
  },
  {
   "cell_type": "markdown",
   "metadata": {},
   "source": [
    "# Part 8: References"
   ]
  },
  {
   "cell_type": "markdown",
   "metadata": {},
   "source": [
    "Murder Dataset: https://www.kaggle.com/murderaccountability/homicide-reports/data\n",
    "\n",
    "Suicide Dataset: https://wonder.cdc.gov/controller/datarequest/D76\n",
    "\n",
    "Mass Shooting Dataset: https://www.kaggle.com/gunviolencearchive/gun-violence-database#mass_shootings_all.csv\n",
    "\n",
    "Scorecard of States by Gun Law: https://lawcenter.giffords.org/scorecard/\n",
    "\n",
    "State Populations: https://en.wikipedia.org/wiki/List_of_states_and_territories_of_the_United_States_by_population"
   ]
  }
 ],
 "metadata": {
  "kernelspec": {
   "display_name": "Python 3",
   "language": "python",
   "name": "python3"
  },
  "language_info": {
   "codemirror_mode": {
    "name": "ipython",
    "version": 3
   },
   "file_extension": ".py",
   "mimetype": "text/x-python",
   "name": "python",
   "nbconvert_exporter": "python",
   "pygments_lexer": "ipython3",
   "version": "3.6.2"
  }
 },
 "nbformat": 4,
 "nbformat_minor": 4
}
